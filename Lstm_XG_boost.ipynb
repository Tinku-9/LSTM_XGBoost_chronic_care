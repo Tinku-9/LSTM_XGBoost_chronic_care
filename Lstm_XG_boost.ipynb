{
  "nbformat": 4,
  "nbformat_minor": 0,
  "metadata": {
    "colab": {
      "provenance": [],
      "gpuType": "T4"
    },
    "kernelspec": {
      "name": "python3",
      "display_name": "Python 3"
    },
    "language_info": {
      "name": "python"
    },
    "accelerator": "GPU"
  },
  "cells": [
    {
      "cell_type": "code",
      "execution_count": 2,
      "metadata": {
        "colab": {
          "base_uri": "https://localhost:8080/"
        },
        "id": "_xXUkm3Udpuw",
        "outputId": "9811c4e4-65f8-4cf0-a149-2156b83c2733"
      },
      "outputs": [
        {
          "output_type": "stream",
          "name": "stdout",
          "text": [
            "\u001b[?25l     \u001b[90m━━━━━━━━━━━━━━━━━━━━━━━━━━━━━━━━━━━━━━━━\u001b[0m \u001b[32m0.0/380.1 kB\u001b[0m \u001b[31m?\u001b[0m eta \u001b[36m-:--:--\u001b[0m\r\u001b[2K     \u001b[91m━━━━━━━━━━━━━━━━━━━━━━━━━━━━━━━━━━━━━\u001b[0m\u001b[91m╸\u001b[0m \u001b[32m378.9/380.1 kB\u001b[0m \u001b[31m17.5 MB/s\u001b[0m eta \u001b[36m0:00:01\u001b[0m\r\u001b[2K     \u001b[90m━━━━━━━━━━━━━━━━━━━━━━━━━━━━━━━━━━━━━━\u001b[0m \u001b[32m380.1/380.1 kB\u001b[0m \u001b[31m10.4 MB/s\u001b[0m eta \u001b[36m0:00:00\u001b[0m\n",
            "\u001b[?25h  Installing build dependencies ... \u001b[?25l\u001b[?25hdone\n",
            "  Getting requirements to build wheel ... \u001b[?25l\u001b[?25hdone\n",
            "  Preparing metadata (pyproject.toml) ... \u001b[?25l\u001b[?25hdone\n",
            "\u001b[31mERROR: Could not find a version that satisfies the requirement tensorflow==2.12.0 (from versions: 2.16.0rc0, 2.16.1, 2.16.2, 2.17.0rc0, 2.17.0rc1, 2.17.0, 2.17.1, 2.18.0rc0, 2.18.0rc1, 2.18.0rc2, 2.18.0, 2.18.1, 2.19.0rc0, 2.19.0, 2.19.1, 2.20.0rc0, 2.20.0)\u001b[0m\u001b[31m\n",
            "\u001b[0m\u001b[31mERROR: No matching distribution found for tensorflow==2.12.0\u001b[0m\u001b[31m\n",
            "\u001b[0m"
          ]
        }
      ],
      "source": [
        "# Colab: run this in a cell\n",
        "!pip install -q xgboost shap==0.41.0 tensorflow==2.12.0 scikit-learn pandas matplotlib joblib\n"
      ]
    },
    {
      "cell_type": "code",
      "source": [
        "import os\n",
        "import random\n",
        "import numpy as np\n",
        "import pandas as pd\n",
        "import matplotlib.pyplot as plt\n",
        "from sklearn.model_selection import train_test_split\n",
        "from sklearn.metrics import roc_auc_score, average_precision_score\n",
        "import joblib\n",
        "import xgboost as xgb\n",
        "import shap\n",
        "import tensorflow as tf\n",
        "from tensorflow.keras import layers, models\n",
        "from sklearn.preprocessing import StandardScaler\n",
        "from tqdm import tqdm\n",
        "\n",
        "# reproducibility\n",
        "SEED = 42\n",
        "random.seed(SEED)\n",
        "np.random.seed(SEED)\n",
        "tf.random.set_seed(SEED)\n",
        "\n",
        "print(\"TF version:\", tf.__version__)\n"
      ],
      "metadata": {
        "colab": {
          "base_uri": "https://localhost:8080/"
        },
        "id": "3Pd9qJsfd7fs",
        "outputId": "afb2a6c8-49df-4a19-8add-aeb86604ccfa"
      },
      "execution_count": 3,
      "outputs": [
        {
          "output_type": "stream",
          "name": "stdout",
          "text": [
            "TF version: 2.19.0\n"
          ]
        }
      ]
    },
    {
      "cell_type": "code",
      "source": [
        "# This makes a dataset for demo/training.\n",
        "def simulate_patient_ts(min_days=30, max_days=180):\n",
        "    # base patient-level attrs\n",
        "    age = np.random.randint(30, 85)\n",
        "    sex = np.random.choice(['M','F'])\n",
        "    diabetes = np.random.choice([0,1], p=[0.7,0.3])\n",
        "    htn = np.random.choice([0,1], p=[0.7,0.3])\n",
        "    # length\n",
        "    L = np.random.randint(min_days, max_days+1)\n",
        "    dates = pd.date_range(end=pd.Timestamp('2025-09-01'), periods=L).tolist()\n",
        "    # baseline values with patient-specific drift\n",
        "    base_glucose = 90 + (diabetes*40) + np.random.randn()*8\n",
        "    base_bp_sys = 110 + (htn*20) + np.random.randn()*6\n",
        "    base_hr = 65 + np.random.randn()*4\n",
        "\n",
        "    # simulate series with noise + trend\n",
        "    glucose_trend = (np.random.rand()-0.3) * (0.5 + diabetes*1.5)  # growth per day\n",
        "    bp_trend = (np.random.rand()-0.4) * (0.05 + htn*0.2)\n",
        "    hr_trend = (np.random.rand()-0.4) * 0.02\n",
        "\n",
        "    glucose = (base_glucose + np.arange(L)*glucose_trend + np.random.randn(L)*5).clip(50, 400)\n",
        "    bp_sys = (base_bp_sys + np.arange(L)*bp_trend + np.random.randn(L)*4).clip(80, 220)\n",
        "    bp_dia = (bp_sys*0.6 + np.random.randn(L)*3).clip(50,140)\n",
        "    hr = (base_hr + np.arange(L)*hr_trend + np.random.randn(L)*3).clip(40,140)\n",
        "\n",
        "    # medications adherence: fraction of days adherent\n",
        "    med_adherence = np.clip(np.random.beta(5,2), 0.2, 1.0)  # high means good adherence\n",
        "    missed_meds_count = int((1.0 - med_adherence) * L)\n",
        "\n",
        "    # create timeseries dataframe\n",
        "    df = pd.DataFrame({\n",
        "        'date': [d.strftime('%Y-%m-%d') for d in dates],\n",
        "        'glucose': glucose,\n",
        "        'bp_systolic': bp_sys,\n",
        "        'bp_diastolic': bp_dia,\n",
        "        'hr': hr\n",
        "    })\n",
        "\n",
        "    static = {'age': age, 'sex': sex, 'diabetes': diabetes, 'htn': htn, 'med_adherence': med_adherence}\n",
        "    return static, df\n",
        "\n",
        "def label_from_ts(static, df):\n",
        "    # small heuristic to create a \"deterioration within 90 days\" label\n",
        "    # Use moderate randomness so model doesn't trivially overfit\n",
        "    g_last = df['glucose'].iloc[-1]\n",
        "    g_mean = df['glucose'].mean()\n",
        "    g_slope = np.polyfit(np.arange(len(df)), df['glucose'].values, 1)[0]\n",
        "    bp_var = df['bp_systolic'].std()\n",
        "    risk_score = 0.0\n",
        "    risk_score += (g_last - 110) / 200.0\n",
        "    risk_score += max(0, g_slope) * 0.02\n",
        "    risk_score += (bp_var / 40.0)\n",
        "    risk_score += static['diabetes'] * 0.6\n",
        "    risk_score += (1.0 - static['med_adherence']) * 0.8\n",
        "    # convert to probability with sigmoid-ish mapping\n",
        "    prob = 1 / (1 + np.exp(-3*(risk_score - 0.5)))\n",
        "    # add noise\n",
        "    prob = prob * 0.85 + np.random.rand()*0.15\n",
        "    label = 1 if prob > 0.5 else 0\n",
        "    return label, prob\n",
        "\n",
        "# generate dataset\n",
        "def make_dataset(n_patients=2000):\n",
        "    rows = []\n",
        "    seqs = []\n",
        "    for i in range(n_patients):\n",
        "        static, df = simulate_patient_ts()\n",
        "        label, prob = label_from_ts(static, df)\n",
        "        rows.append({'id': i, 'static': static, 'ts': df, 'label': label})\n",
        "    return rows\n",
        "\n",
        "print(\"Generating synthetic data...\")\n",
        "data_rows = make_dataset(1200)  # tune number based on colab memory/time\n",
        "print(\"Done. Example patient:\", data_rows[0]['static'])\n"
      ],
      "metadata": {
        "colab": {
          "base_uri": "https://localhost:8080/"
        },
        "id": "xlQUsdbuedS3",
        "outputId": "aa4e2d3e-47ec-47d1-d56a-42fbe727ba7f"
      },
      "execution_count": 4,
      "outputs": [
        {
          "output_type": "stream",
          "name": "stdout",
          "text": [
            "Generating synthetic data...\n",
            "Done. Example patient: {'age': 68, 'sex': np.str_('F'), 'diabetes': np.int64(1), 'htn': np.int64(1), 'med_adherence': np.float64(0.7746862791413448)}\n"
          ]
        }
      ]
    },
    {
      "cell_type": "code",
      "source": [
        "from sklearn.linear_model import LinearRegression\n",
        "\n",
        "def aggregate_time_series(ts_df):\n",
        "    features = {}\n",
        "    numeric_cols = [c for c in ts_df.columns if c != 'date']\n",
        "    for c in numeric_cols:\n",
        "        arr = ts_df[c].dropna().values\n",
        "        if len(arr) == 0:\n",
        "            features[f'{c}_mean'] = 0.0\n",
        "            features[f'{c}_std'] = 0.0\n",
        "            features[f'{c}_last'] = 0.0\n",
        "            features[f'{c}_slope'] = 0.0\n",
        "            continue\n",
        "        features[f'{c}_mean'] = float(np.mean(arr))\n",
        "        features[f'{c}_std'] = float(np.std(arr))\n",
        "        features[f'{c}_last'] = float(arr[-1])\n",
        "        if len(arr) > 1:\n",
        "            X = np.arange(len(arr)).reshape(-1,1)\n",
        "            lr = LinearRegression().fit(X, arr)\n",
        "            features[f'{c}_slope'] = float(lr.coef_[0])\n",
        "        else:\n",
        "            features[f'{c}_slope'] = 0.0\n",
        "    return features\n",
        "\n",
        "def build_tabular_features(static_dict, ts_df):\n",
        "    agg = aggregate_time_series(ts_df)\n",
        "    out = {}\n",
        "    # encode sex\n",
        "    out['sex_M'] = 1 if static_dict.get('sex','M') == 'M' else 0\n",
        "    out['sex_F'] = 1 - out['sex_M']\n",
        "    out['age'] = static_dict.get('age', 50)\n",
        "    out['diabetes'] = static_dict.get('diabetes', 0)\n",
        "    out['htn'] = static_dict.get('htn', 0)\n",
        "    out['med_adherence'] = static_dict.get('med_adherence', 0.8)\n",
        "    out.update(agg)\n",
        "    df = pd.DataFrame([out])\n",
        "    # fillna\n",
        "    df = df.fillna(0.0)\n",
        "    return df\n",
        "\n",
        "def prepare_lstm_sequence(ts_df, features=['glucose','bp_systolic','bp_diastolic','hr'], max_len=180):\n",
        "    seq_len = max_len\n",
        "    n_features = len(features)\n",
        "    final = np.zeros((seq_len, n_features), dtype=float)\n",
        "    for i, c in enumerate(features):\n",
        "        arr = ts_df[c].dropna().values if c in ts_df.columns else np.array([])\n",
        "        if len(arr) == 0:\n",
        "            continue\n",
        "        if len(arr) >= seq_len:\n",
        "            slice_arr = arr[-seq_len:]\n",
        "            final[:, i] = slice_arr\n",
        "        else:\n",
        "            final[-len(arr):, i] = arr\n",
        "            final[:-len(arr), i] = arr[0]  # front padding with first value\n",
        "    return final  # shape (seq_len, n_features)\n"
      ],
      "metadata": {
        "id": "xGRIzKabemkb"
      },
      "execution_count": 5,
      "outputs": []
    },
    {
      "cell_type": "code",
      "source": [
        "# build arrays\n",
        "MAX_LEN = 180\n",
        "features = ['glucose','bp_systolic','bp_diastolic','hr']\n",
        "\n",
        "X_seq_list = []\n",
        "X_tab_list = []\n",
        "y_list = []\n",
        "ids = []\n",
        "\n",
        "for row in tqdm(data_rows):\n",
        "    ts_df = row['ts']\n",
        "    static = row['static']\n",
        "    label = row['label']\n",
        "    seq = prepare_lstm_sequence(ts_df, features=features, max_len=MAX_LEN)\n",
        "    tab = build_tabular_features(static, ts_df)\n",
        "    X_seq_list.append(seq)\n",
        "    X_tab_list.append(tab.iloc[0].values)\n",
        "    y_list.append(label)\n",
        "    ids.append(row['id'])\n",
        "\n",
        "X_seq = np.stack(X_seq_list, axis=0)  # shape (N, seq_len, n_features)\n",
        "X_tab = np.stack(X_tab_list, axis=0)  # shape (N, tab_feat)\n",
        "y = np.array(y_list)\n",
        "\n",
        "print(\"Shapes:\", X_seq.shape, X_tab.shape, y.shape)\n",
        "\n",
        "# standardize tabular features for training xgboost (optional)\n",
        "tab_scaler = StandardScaler()\n",
        "X_tab_scaled = tab_scaler.fit_transform(X_tab)\n",
        "\n",
        "# split\n",
        "X_seq_tr, X_seq_te, X_tab_tr, X_tab_te, y_tr, y_te = train_test_split(\n",
        "    X_seq, X_tab_scaled, y, test_size=0.2, random_state=SEED, stratify=y\n",
        ")\n",
        "print(\"Train/test sizes:\", X_seq_tr.shape[0], X_seq_te.shape[0])\n"
      ],
      "metadata": {
        "colab": {
          "base_uri": "https://localhost:8080/"
        },
        "id": "UTfa4DvQes_-",
        "outputId": "2c071e4b-67c8-4cf3-bf30-8cded6596864"
      },
      "execution_count": 6,
      "outputs": [
        {
          "output_type": "stream",
          "name": "stderr",
          "text": [
            "100%|██████████| 1200/1200 [00:05<00:00, 219.80it/s]"
          ]
        },
        {
          "output_type": "stream",
          "name": "stdout",
          "text": [
            "Shapes: (1200, 180, 4) (1200, 22) (1200,)\n",
            "Train/test sizes: 960 240\n"
          ]
        },
        {
          "output_type": "stream",
          "name": "stderr",
          "text": [
            "\n"
          ]
        }
      ]
    },
    {
      "cell_type": "code",
      "source": [
        "def build_lstm_encoder(seq_len=MAX_LEN, n_features=len(features), embed_dim=32):\n",
        "    inp = layers.Input(shape=(seq_len, n_features), name='seq_input')\n",
        "    x = layers.Masking()(inp)\n",
        "    x = layers.Bidirectional(layers.LSTM(64, return_sequences=True))(x)\n",
        "    x = layers.Bidirectional(layers.LSTM(32))(x)\n",
        "    x = layers.Dense(embed_dim, activation='relu')(x)\n",
        "    model = models.Model(inputs=inp, outputs=x, name='lstm_encoder')\n",
        "    return model\n",
        "\n",
        "encoder = build_lstm_encoder()\n",
        "encoder.summary()\n"
      ],
      "metadata": {
        "colab": {
          "base_uri": "https://localhost:8080/",
          "height": 417
        },
        "id": "ux8RC8XVewts",
        "outputId": "117b5093-c3dc-4397-fe7f-fe6b434da2c6"
      },
      "execution_count": 7,
      "outputs": [
        {
          "output_type": "display_data",
          "data": {
            "text/plain": [
              "\u001b[1mModel: \"lstm_encoder\"\u001b[0m\n"
            ],
            "text/html": [
              "<pre style=\"white-space:pre;overflow-x:auto;line-height:normal;font-family:Menlo,'DejaVu Sans Mono',consolas,'Courier New',monospace\"><span style=\"font-weight: bold\">Model: \"lstm_encoder\"</span>\n",
              "</pre>\n"
            ]
          },
          "metadata": {}
        },
        {
          "output_type": "display_data",
          "data": {
            "text/plain": [
              "┏━━━━━━━━━━━━━━━━━━━━━┳━━━━━━━━━━━━━━━━━━━┳━━━━━━━━━━━━┳━━━━━━━━━━━━━━━━━━━┓\n",
              "┃\u001b[1m \u001b[0m\u001b[1mLayer (type)       \u001b[0m\u001b[1m \u001b[0m┃\u001b[1m \u001b[0m\u001b[1mOutput Shape     \u001b[0m\u001b[1m \u001b[0m┃\u001b[1m \u001b[0m\u001b[1m   Param #\u001b[0m\u001b[1m \u001b[0m┃\u001b[1m \u001b[0m\u001b[1mConnected to     \u001b[0m\u001b[1m \u001b[0m┃\n",
              "┡━━━━━━━━━━━━━━━━━━━━━╇━━━━━━━━━━━━━━━━━━━╇━━━━━━━━━━━━╇━━━━━━━━━━━━━━━━━━━┩\n",
              "│ seq_input           │ (\u001b[38;5;45mNone\u001b[0m, \u001b[38;5;34m180\u001b[0m, \u001b[38;5;34m4\u001b[0m)    │          \u001b[38;5;34m0\u001b[0m │ -                 │\n",
              "│ (\u001b[38;5;33mInputLayer\u001b[0m)        │                   │            │                   │\n",
              "├─────────────────────┼───────────────────┼────────────┼───────────────────┤\n",
              "│ not_equal           │ (\u001b[38;5;45mNone\u001b[0m, \u001b[38;5;34m180\u001b[0m, \u001b[38;5;34m4\u001b[0m)    │          \u001b[38;5;34m0\u001b[0m │ seq_input[\u001b[38;5;34m0\u001b[0m][\u001b[38;5;34m0\u001b[0m]   │\n",
              "│ (\u001b[38;5;33mNotEqual\u001b[0m)          │                   │            │                   │\n",
              "├─────────────────────┼───────────────────┼────────────┼───────────────────┤\n",
              "│ masking (\u001b[38;5;33mMasking\u001b[0m)   │ (\u001b[38;5;45mNone\u001b[0m, \u001b[38;5;34m180\u001b[0m, \u001b[38;5;34m4\u001b[0m)    │          \u001b[38;5;34m0\u001b[0m │ seq_input[\u001b[38;5;34m0\u001b[0m][\u001b[38;5;34m0\u001b[0m]   │\n",
              "├─────────────────────┼───────────────────┼────────────┼───────────────────┤\n",
              "│ any (\u001b[38;5;33mAny\u001b[0m)           │ (\u001b[38;5;45mNone\u001b[0m, \u001b[38;5;34m180\u001b[0m)       │          \u001b[38;5;34m0\u001b[0m │ not_equal[\u001b[38;5;34m0\u001b[0m][\u001b[38;5;34m0\u001b[0m]   │\n",
              "├─────────────────────┼───────────────────┼────────────┼───────────────────┤\n",
              "│ bidirectional       │ (\u001b[38;5;45mNone\u001b[0m, \u001b[38;5;34m180\u001b[0m, \u001b[38;5;34m128\u001b[0m)  │     \u001b[38;5;34m35,328\u001b[0m │ masking[\u001b[38;5;34m0\u001b[0m][\u001b[38;5;34m0\u001b[0m],    │\n",
              "│ (\u001b[38;5;33mBidirectional\u001b[0m)     │                   │            │ any[\u001b[38;5;34m0\u001b[0m][\u001b[38;5;34m0\u001b[0m]         │\n",
              "├─────────────────────┼───────────────────┼────────────┼───────────────────┤\n",
              "│ bidirectional_1     │ (\u001b[38;5;45mNone\u001b[0m, \u001b[38;5;34m64\u001b[0m)        │     \u001b[38;5;34m41,216\u001b[0m │ bidirectional[\u001b[38;5;34m0\u001b[0m]… │\n",
              "│ (\u001b[38;5;33mBidirectional\u001b[0m)     │                   │            │ any[\u001b[38;5;34m0\u001b[0m][\u001b[38;5;34m0\u001b[0m]         │\n",
              "├─────────────────────┼───────────────────┼────────────┼───────────────────┤\n",
              "│ dense (\u001b[38;5;33mDense\u001b[0m)       │ (\u001b[38;5;45mNone\u001b[0m, \u001b[38;5;34m32\u001b[0m)        │      \u001b[38;5;34m2,080\u001b[0m │ bidirectional_1[\u001b[38;5;34m…\u001b[0m │\n",
              "└─────────────────────┴───────────────────┴────────────┴───────────────────┘\n"
            ],
            "text/html": [
              "<pre style=\"white-space:pre;overflow-x:auto;line-height:normal;font-family:Menlo,'DejaVu Sans Mono',consolas,'Courier New',monospace\">┏━━━━━━━━━━━━━━━━━━━━━┳━━━━━━━━━━━━━━━━━━━┳━━━━━━━━━━━━┳━━━━━━━━━━━━━━━━━━━┓\n",
              "┃<span style=\"font-weight: bold\"> Layer (type)        </span>┃<span style=\"font-weight: bold\"> Output Shape      </span>┃<span style=\"font-weight: bold\">    Param # </span>┃<span style=\"font-weight: bold\"> Connected to      </span>┃\n",
              "┡━━━━━━━━━━━━━━━━━━━━━╇━━━━━━━━━━━━━━━━━━━╇━━━━━━━━━━━━╇━━━━━━━━━━━━━━━━━━━┩\n",
              "│ seq_input           │ (<span style=\"color: #00d7ff; text-decoration-color: #00d7ff\">None</span>, <span style=\"color: #00af00; text-decoration-color: #00af00\">180</span>, <span style=\"color: #00af00; text-decoration-color: #00af00\">4</span>)    │          <span style=\"color: #00af00; text-decoration-color: #00af00\">0</span> │ -                 │\n",
              "│ (<span style=\"color: #0087ff; text-decoration-color: #0087ff\">InputLayer</span>)        │                   │            │                   │\n",
              "├─────────────────────┼───────────────────┼────────────┼───────────────────┤\n",
              "│ not_equal           │ (<span style=\"color: #00d7ff; text-decoration-color: #00d7ff\">None</span>, <span style=\"color: #00af00; text-decoration-color: #00af00\">180</span>, <span style=\"color: #00af00; text-decoration-color: #00af00\">4</span>)    │          <span style=\"color: #00af00; text-decoration-color: #00af00\">0</span> │ seq_input[<span style=\"color: #00af00; text-decoration-color: #00af00\">0</span>][<span style=\"color: #00af00; text-decoration-color: #00af00\">0</span>]   │\n",
              "│ (<span style=\"color: #0087ff; text-decoration-color: #0087ff\">NotEqual</span>)          │                   │            │                   │\n",
              "├─────────────────────┼───────────────────┼────────────┼───────────────────┤\n",
              "│ masking (<span style=\"color: #0087ff; text-decoration-color: #0087ff\">Masking</span>)   │ (<span style=\"color: #00d7ff; text-decoration-color: #00d7ff\">None</span>, <span style=\"color: #00af00; text-decoration-color: #00af00\">180</span>, <span style=\"color: #00af00; text-decoration-color: #00af00\">4</span>)    │          <span style=\"color: #00af00; text-decoration-color: #00af00\">0</span> │ seq_input[<span style=\"color: #00af00; text-decoration-color: #00af00\">0</span>][<span style=\"color: #00af00; text-decoration-color: #00af00\">0</span>]   │\n",
              "├─────────────────────┼───────────────────┼────────────┼───────────────────┤\n",
              "│ any (<span style=\"color: #0087ff; text-decoration-color: #0087ff\">Any</span>)           │ (<span style=\"color: #00d7ff; text-decoration-color: #00d7ff\">None</span>, <span style=\"color: #00af00; text-decoration-color: #00af00\">180</span>)       │          <span style=\"color: #00af00; text-decoration-color: #00af00\">0</span> │ not_equal[<span style=\"color: #00af00; text-decoration-color: #00af00\">0</span>][<span style=\"color: #00af00; text-decoration-color: #00af00\">0</span>]   │\n",
              "├─────────────────────┼───────────────────┼────────────┼───────────────────┤\n",
              "│ bidirectional       │ (<span style=\"color: #00d7ff; text-decoration-color: #00d7ff\">None</span>, <span style=\"color: #00af00; text-decoration-color: #00af00\">180</span>, <span style=\"color: #00af00; text-decoration-color: #00af00\">128</span>)  │     <span style=\"color: #00af00; text-decoration-color: #00af00\">35,328</span> │ masking[<span style=\"color: #00af00; text-decoration-color: #00af00\">0</span>][<span style=\"color: #00af00; text-decoration-color: #00af00\">0</span>],    │\n",
              "│ (<span style=\"color: #0087ff; text-decoration-color: #0087ff\">Bidirectional</span>)     │                   │            │ any[<span style=\"color: #00af00; text-decoration-color: #00af00\">0</span>][<span style=\"color: #00af00; text-decoration-color: #00af00\">0</span>]         │\n",
              "├─────────────────────┼───────────────────┼────────────┼───────────────────┤\n",
              "│ bidirectional_1     │ (<span style=\"color: #00d7ff; text-decoration-color: #00d7ff\">None</span>, <span style=\"color: #00af00; text-decoration-color: #00af00\">64</span>)        │     <span style=\"color: #00af00; text-decoration-color: #00af00\">41,216</span> │ bidirectional[<span style=\"color: #00af00; text-decoration-color: #00af00\">0</span>]… │\n",
              "│ (<span style=\"color: #0087ff; text-decoration-color: #0087ff\">Bidirectional</span>)     │                   │            │ any[<span style=\"color: #00af00; text-decoration-color: #00af00\">0</span>][<span style=\"color: #00af00; text-decoration-color: #00af00\">0</span>]         │\n",
              "├─────────────────────┼───────────────────┼────────────┼───────────────────┤\n",
              "│ dense (<span style=\"color: #0087ff; text-decoration-color: #0087ff\">Dense</span>)       │ (<span style=\"color: #00d7ff; text-decoration-color: #00d7ff\">None</span>, <span style=\"color: #00af00; text-decoration-color: #00af00\">32</span>)        │      <span style=\"color: #00af00; text-decoration-color: #00af00\">2,080</span> │ bidirectional_1[<span style=\"color: #00af00; text-decoration-color: #00af00\">…</span> │\n",
              "└─────────────────────┴───────────────────┴────────────┴───────────────────┘\n",
              "</pre>\n"
            ]
          },
          "metadata": {}
        },
        {
          "output_type": "display_data",
          "data": {
            "text/plain": [
              "\u001b[1m Total params: \u001b[0m\u001b[38;5;34m78,624\u001b[0m (307.12 KB)\n"
            ],
            "text/html": [
              "<pre style=\"white-space:pre;overflow-x:auto;line-height:normal;font-family:Menlo,'DejaVu Sans Mono',consolas,'Courier New',monospace\"><span style=\"font-weight: bold\"> Total params: </span><span style=\"color: #00af00; text-decoration-color: #00af00\">78,624</span> (307.12 KB)\n",
              "</pre>\n"
            ]
          },
          "metadata": {}
        },
        {
          "output_type": "display_data",
          "data": {
            "text/plain": [
              "\u001b[1m Trainable params: \u001b[0m\u001b[38;5;34m78,624\u001b[0m (307.12 KB)\n"
            ],
            "text/html": [
              "<pre style=\"white-space:pre;overflow-x:auto;line-height:normal;font-family:Menlo,'DejaVu Sans Mono',consolas,'Courier New',monospace\"><span style=\"font-weight: bold\"> Trainable params: </span><span style=\"color: #00af00; text-decoration-color: #00af00\">78,624</span> (307.12 KB)\n",
              "</pre>\n"
            ]
          },
          "metadata": {}
        },
        {
          "output_type": "display_data",
          "data": {
            "text/plain": [
              "\u001b[1m Non-trainable params: \u001b[0m\u001b[38;5;34m0\u001b[0m (0.00 B)\n"
            ],
            "text/html": [
              "<pre style=\"white-space:pre;overflow-x:auto;line-height:normal;font-family:Menlo,'DejaVu Sans Mono',consolas,'Courier New',monospace\"><span style=\"font-weight: bold\"> Non-trainable params: </span><span style=\"color: #00af00; text-decoration-color: #00af00\">0</span> (0.00 B)\n",
              "</pre>\n"
            ]
          },
          "metadata": {}
        }
      ]
    },
    {
      "cell_type": "code",
      "source": [
        "# Use XGBClassifier (sklearn API) for simple predict_proba & shap integration\n",
        "xgb_clf = xgb.XGBClassifier(\n",
        "    n_estimators=100, max_depth=4, learning_rate=0.1,\n",
        "    use_label_encoder=False, eval_metric='auc'\n",
        ")\n",
        "xgb_clf.fit(X_tab_tr, y_tr)\n",
        "# quick validation\n",
        "xgb_probs_te = xgb_clf.predict_proba(X_tab_te)[:,1]\n",
        "print(\"XGB AUROC (tab-only) on test:\", roc_auc_score(y_te, xgb_probs_te))\n"
      ],
      "metadata": {
        "colab": {
          "base_uri": "https://localhost:8080/"
        },
        "id": "yWNP6OfTfE8L",
        "outputId": "f6a514a7-dfa8-4cab-a409-bf67e0689d99"
      },
      "execution_count": 8,
      "outputs": [
        {
          "output_type": "stream",
          "name": "stdout",
          "text": [
            "XGB AUROC (tab-only) on test: 0.9929198318460064\n"
          ]
        },
        {
          "output_type": "stream",
          "name": "stderr",
          "text": [
            "/usr/local/lib/python3.12/dist-packages/xgboost/training.py:183: UserWarning: [14:10:15] WARNING: /workspace/src/learner.cc:738: \n",
            "Parameters: { \"use_label_encoder\" } are not used.\n",
            "\n",
            "  bst.update(dtrain, iteration=i, fobj=obj)\n"
          ]
        }
      ]
    },
    {
      "cell_type": "code",
      "source": [
        "# attach a small supervised head to encoder for training embeddings\n",
        "seq_in = layers.Input(shape=(MAX_LEN, len(features)))\n",
        "emb = encoder(seq_in)\n",
        "out = layers.Dense(1, activation='sigmoid')(emb)\n",
        "supervised = models.Model(seq_in, out)\n",
        "supervised.compile(optimizer='adam', loss='binary_crossentropy', metrics=[tf.keras.metrics.AUC(name='auc')])\n",
        "\n",
        "# train lightly (keep epochs low on free colab)\n",
        "history = supervised.fit(X_seq_tr, y_tr, validation_split=0.1, epochs=6, batch_size=32, verbose=2)\n",
        "# save encoder weights (encoder is shared)\n",
        "encoder.save('lstm_encoder_demo.keras')"
      ],
      "metadata": {
        "colab": {
          "base_uri": "https://localhost:8080/"
        },
        "id": "2nzh-ctBfImF",
        "outputId": "f4cd082c-ad6e-4922-dc7c-8a42d8986a44"
      },
      "execution_count": 9,
      "outputs": [
        {
          "output_type": "stream",
          "name": "stdout",
          "text": [
            "Epoch 1/6\n",
            "27/27 - 17s - 617ms/step - auc: 0.8665 - loss: 0.4489 - val_auc: 0.9489 - val_loss: 0.2911\n",
            "Epoch 2/6\n",
            "27/27 - 1s - 24ms/step - auc: 0.9147 - loss: 0.3196 - val_auc: 0.9543 - val_loss: 0.2686\n",
            "Epoch 3/6\n",
            "27/27 - 1s - 24ms/step - auc: 0.9183 - loss: 0.3070 - val_auc: 0.9590 - val_loss: 0.2420\n",
            "Epoch 4/6\n",
            "27/27 - 1s - 24ms/step - auc: 0.9208 - loss: 0.3000 - val_auc: 0.9614 - val_loss: 0.2419\n",
            "Epoch 5/6\n",
            "27/27 - 1s - 46ms/step - auc: 0.9207 - loss: 0.3000 - val_auc: 0.9487 - val_loss: 0.2937\n",
            "Epoch 6/6\n",
            "27/27 - 1s - 47ms/step - auc: 0.9128 - loss: 0.3148 - val_auc: 0.9576 - val_loss: 0.2628\n"
          ]
        }
      ]
    },
    {
      "cell_type": "code",
      "source": [
        "# compute embeddings for train & test\n",
        "emb_tr = encoder.predict(X_seq_tr, verbose=0)  # (N, embed_dim)\n",
        "emb_te = encoder.predict(X_seq_te, verbose=0)\n",
        "\n",
        "# compute XGB probs for train & test (on scaled X_tab)\n",
        "xgb_prob_tr = xgb_clf.predict_proba(X_tab_tr)[:,1].reshape(-1,1)\n",
        "xgb_prob_te = xgb_clf.predict_proba(X_tab_te)[:,1].reshape(-1,1)\n",
        "\n",
        "# fusion network: inputs = embedding + xgb_prob\n",
        "emb_in = layers.Input(shape=(emb_tr.shape[1],), name='emb_in')\n",
        "xgb_in = layers.Input(shape=(1,), name='xgb_in')\n",
        "x = layers.Concatenate()([emb_in, xgb_in])\n",
        "x = layers.Dense(64, activation='relu')(x)\n",
        "x = layers.Dense(32, activation='relu')(x)\n",
        "out = layers.Dense(1, activation='sigmoid')(x)\n",
        "fusion = models.Model([emb_in, xgb_in], out)\n",
        "fusion.compile(optimizer='adam', loss='binary_crossentropy', metrics=[tf.keras.metrics.AUC(name='auc')])\n",
        "\n",
        "# train fusion\n",
        "fusion.fit([emb_tr, xgb_prob_tr], y_tr, validation_split=0.1, epochs=8, batch_size=32, verbose=2)\n",
        "# eval\n",
        "fusion_probs_te = fusion.predict([emb_te, xgb_prob_te]).ravel()\n",
        "print(\"Fusion AUROC:\", roc_auc_score(y_te, fusion_probs_te))\n",
        "print(\"Fusion AUPRC:\", average_precision_score(y_te, fusion_probs_te))\n",
        "\n",
        "# save artifacts\n",
        "os.makedirs('saved_models', exist_ok=True)\n",
        "encoder.save('saved_models/lstm_encoder.keras')\n",
        "fusion.save('saved_models/fusion_model.keras')\n",
        "joblib.dump(xgb_clf, 'saved_models/xgb_model.joblib')\n",
        "joblib.dump(tab_scaler, 'saved_models/tab_scaler.joblib')\n",
        "print(\"Saved models to saved_models/\")"
      ],
      "metadata": {
        "colab": {
          "base_uri": "https://localhost:8080/"
        },
        "id": "-0Vzu34ffirR",
        "outputId": "3339c769-e880-4d52-c660-f9b304065476"
      },
      "execution_count": 10,
      "outputs": [
        {
          "output_type": "stream",
          "name": "stdout",
          "text": [
            "Epoch 1/8\n",
            "27/27 - 3s - 123ms/step - auc: 0.8971 - loss: 0.4562 - val_auc: 0.9735 - val_loss: 0.2843\n",
            "Epoch 2/8\n",
            "27/27 - 0s - 5ms/step - auc: 0.9622 - loss: 0.2606 - val_auc: 0.9810 - val_loss: 0.1973\n",
            "Epoch 3/8\n",
            "27/27 - 0s - 5ms/step - auc: 0.9807 - loss: 0.2011 - val_auc: 0.9930 - val_loss: 0.1448\n",
            "Epoch 4/8\n",
            "27/27 - 0s - 5ms/step - auc: 0.9930 - loss: 0.1521 - val_auc: 0.9993 - val_loss: 0.1007\n",
            "Epoch 5/8\n",
            "27/27 - 0s - 5ms/step - auc: 0.9979 - loss: 0.1029 - val_auc: 1.0000 - val_loss: 0.0630\n",
            "Epoch 6/8\n",
            "27/27 - 0s - 5ms/step - auc: 0.9996 - loss: 0.0667 - val_auc: 1.0000 - val_loss: 0.0391\n",
            "Epoch 7/8\n",
            "27/27 - 0s - 5ms/step - auc: 0.9999 - loss: 0.0432 - val_auc: 1.0000 - val_loss: 0.0244\n",
            "Epoch 8/8\n",
            "27/27 - 0s - 5ms/step - auc: 1.0000 - loss: 0.0286 - val_auc: 1.0000 - val_loss: 0.0154\n",
            "\u001b[1m8/8\u001b[0m \u001b[32m━━━━━━━━━━━━━━━━━━━━\u001b[0m\u001b[37m\u001b[0m \u001b[1m0s\u001b[0m 41ms/step\n",
            "Fusion AUROC: 0.991223541559112\n",
            "Fusion AUPRC: 0.9877808207307193\n",
            "Saved models to saved_models/\n"
          ]
        }
      ]
    },
    {
      "cell_type": "code",
      "source": [
        "# 9a) SHAP for xgboost (explainer)\n",
        "import shap, numpy as np, tensorflow as tf\n",
        "\n",
        "# XGBoost SHAP explainer\n",
        "explainer = shap.TreeExplainer(xgb_clf)\n",
        "\n",
        "# pick a small background for speed (not strictly needed but often recommended)\n",
        "bg = X_tab_tr[np.random.choice(X_tab_tr.shape[0],\n",
        "                               size=min(200, X_tab_tr.shape[0]),\n",
        "                               replace=False)]\n",
        "\n",
        "# compute shap values for test set (just to verify shape)\n",
        "shap_vals = explainer.shap_values(X_tab_te, check_additivity=False)  # shape (N, n_features)\n",
        "\n",
        "\n",
        "def explain_sample(idx):\n",
        "    \"\"\"Explain predictions for one test sample.\"\"\"\n",
        "    # --- XGB explanation ---\n",
        "    x_tab_sample = X_tab_te[idx:idx+1]   # tabular input (scaled)\n",
        "    shap_s = explainer.shap_values(x_tab_sample, check_additivity=False)[0]\n",
        "    # get tabular feature names dynamically\n",
        "    sample_tab_df = build_tabular_features(\n",
        "        {'age':50,'sex':'M','diabetes':0,'htn':0,'med_adherence':0.9},\n",
        "        data_rows[0]['ts']\n",
        "    )\n",
        "    tab_feat_names = sample_tab_df.columns.tolist()\n",
        "    xgb_list = sorted(zip(tab_feat_names, shap_s.tolist()),\n",
        "                      key=lambda x: -abs(x[1]))[:6]\n",
        "\n",
        "    # --- LSTM saliency ---\n",
        "    seq_sample = X_seq_te[idx:idx+1]  # shape (1, seq_len, n_features)\n",
        "    xgb_p = float(xgb_clf.predict_proba(x_tab_sample)[0,1])\n",
        "\n",
        "    # load models (keras format)\n",
        "    enc = tf.keras.models.load_model('saved_models/lstm_encoder.keras')\n",
        "    fus = tf.keras.models.load_model('saved_models/fusion_model.keras')\n",
        "\n",
        "    # gradient wrt input sequence\n",
        "    seq_tensor = tf.Variable(seq_sample, dtype=tf.float32)\n",
        "    with tf.GradientTape() as tape:\n",
        "        tape.watch(seq_tensor)\n",
        "        emb = enc(seq_tensor, training=False)\n",
        "        xgb_const = tf.convert_to_tensor([[xgb_p]], dtype=tf.float32)\n",
        "        pred = fus([emb, xgb_const], training=False)\n",
        "    grads = tape.gradient(pred, seq_tensor).numpy()[0]  # (seq_len, n_features)\n",
        "    saliency = np.mean(np.abs(grads), axis=0)           # per-feature saliency\n",
        "    lstm_list = sorted(zip(features, saliency.tolist()), key=lambda x: -x[1])\n",
        "\n",
        "    # fusion probability\n",
        "    fusion_prob = float(fus.predict([enc.predict(seq_sample),\n",
        "                                     np.array([[xgb_p]])])[0,0])\n",
        "\n",
        "    return {\n",
        "        'xgb_top': xgb_list,\n",
        "        'lstm_top': lstm_list,\n",
        "        'xgb_prob': xgb_p,\n",
        "        'fusion_prob': fusion_prob\n",
        "    }\n",
        "\n",
        "\n",
        "# Example usage\n",
        "ex = explain_sample(5)\n",
        "print(\"XGB top features (feature, shap):\", ex['xgb_top'])\n",
        "print(\"LSTM timeseries saliency (feature, score):\", ex['lstm_top'])\n",
        "print(\"xgb prob:\", ex['xgb_prob'], \"fusion:\", ex['fusion_prob'])\n"
      ],
      "metadata": {
        "colab": {
          "base_uri": "https://localhost:8080/"
        },
        "id": "NaC8fIvuf6tQ",
        "outputId": "70c8d9f3-d0b5-422d-bd5a-369b8bbc1ca1"
      },
      "execution_count": 11,
      "outputs": [
        {
          "output_type": "stream",
          "name": "stderr",
          "text": [
            "WARNING:tensorflow:5 out of the last 47 calls to <function TensorFlowTrainer.make_predict_function.<locals>.one_step_on_data_distributed at 0x79efeffce5c0> triggered tf.function retracing. Tracing is expensive and the excessive number of tracings could be due to (1) creating @tf.function repeatedly in a loop, (2) passing tensors with different shapes, (3) passing Python objects instead of tensors. For (1), please define your @tf.function outside of the loop. For (2), @tf.function has reduce_retracing=True option that can avoid unnecessary retracing. For (3), please refer to https://www.tensorflow.org/guide/function#controlling_retracing and https://www.tensorflow.org/api_docs/python/tf/function for  more details.\n"
          ]
        },
        {
          "output_type": "stream",
          "name": "stdout",
          "text": [
            "\u001b[1m1/1\u001b[0m \u001b[32m━━━━━━━━━━━━━━━━━━━━\u001b[0m\u001b[37m\u001b[0m \u001b[1m0s\u001b[0m 351ms/step\n"
          ]
        },
        {
          "output_type": "stream",
          "name": "stderr",
          "text": [
            "WARNING:tensorflow:5 out of the last 11 calls to <function TensorFlowTrainer.make_predict_function.<locals>.one_step_on_data_distributed at 0x79efeffcd580> triggered tf.function retracing. Tracing is expensive and the excessive number of tracings could be due to (1) creating @tf.function repeatedly in a loop, (2) passing tensors with different shapes, (3) passing Python objects instead of tensors. For (1), please define your @tf.function outside of the loop. For (2), @tf.function has reduce_retracing=True option that can avoid unnecessary retracing. For (3), please refer to https://www.tensorflow.org/guide/function#controlling_retracing and https://www.tensorflow.org/api_docs/python/tf/function for  more details.\n"
          ]
        },
        {
          "output_type": "stream",
          "name": "stdout",
          "text": [
            "\u001b[1m1/1\u001b[0m \u001b[32m━━━━━━━━━━━━━━━━━━━━\u001b[0m\u001b[37m\u001b[0m \u001b[1m0s\u001b[0m 230ms/step\n",
            "XGB top features (feature, shap): [('glucose_last', -2.035142660140991), ('diabetes', -1.9297006130218506), ('med_adherence', -0.7428833842277527), ('glucose_mean', -0.6536127328872681), ('hr_last', 0.2865423560142517), ('bp_systolic_std', -0.1863340139389038)]\n",
            "LSTM timeseries saliency (feature, score): [('bp_diastolic', 1.306834406022972e-06), ('hr', 8.543410672245955e-07), ('bp_systolic', 7.584703212160093e-07), ('glucose', 7.004756525930134e-07)]\n",
            "xgb prob: 0.0031200009398162365 fusion: 0.01096369232982397\n"
          ]
        }
      ]
    },
    {
      "cell_type": "code",
      "source": [
        "def predict_from_payload(payload):\n",
        "    \"\"\"\n",
        "    payload = {\n",
        "      'static': {'age':..., 'sex':'M','diabetes':...,...},\n",
        "      'ts': DataFrame-like list of {'date':..., 'glucose':..., ...}\n",
        "    }\n",
        "    \"\"\"\n",
        "    # Convert time series to DataFrame\n",
        "    ts_df = pd.DataFrame(payload['ts'])\n",
        "    static = payload['static']\n",
        "\n",
        "    # --- Build tabular features ---\n",
        "    X_tab_df = build_tabular_features(static, ts_df)  # DataFrame\n",
        "\n",
        "    # --- Scale tabular features ---\n",
        "    scaler = joblib.load('saved_models/tab_scaler.joblib')\n",
        "    x_tab_scaled = scaler.transform(X_tab_df.values)\n",
        "\n",
        "    # --- XGBoost prediction ---\n",
        "    xgb_model = joblib.load('saved_models/xgb_model.joblib')\n",
        "    xgb_p = float(xgb_model.predict_proba(x_tab_scaled)[:, 1][0])\n",
        "\n",
        "    # --- Sequence (LSTM input) ---\n",
        "    seq = prepare_lstm_sequence(ts_df, features=features, max_len=MAX_LEN)\n",
        "    seq = seq.reshape(1, MAX_LEN, len(features)).astype('float32')\n",
        "\n",
        "    # --- Load encoder + fusion (keras format) ---\n",
        "    enc = tf.keras.models.load_model('saved_models/lstm_encoder.keras')\n",
        "    emb = enc.predict(seq)\n",
        "    fus = tf.keras.models.load_model('saved_models/fusion_model.keras')\n",
        "\n",
        "    # --- Fusion prediction ---\n",
        "    fusion_p = float(fus.predict([emb, np.array([[xgb_p]])])[0, 0])\n",
        "\n",
        "    return {'xgb_prob': xgb_p, 'fusion_prob': fusion_p}\n",
        "\n",
        "\n",
        "# ✅ Example payload\n",
        "sample_payload = {\n",
        "    'static': data_rows[10]['static'],\n",
        "    'ts': data_rows[10]['ts'].to_dict(orient='records')\n",
        "}\n",
        "\n",
        "print(\"Predict on example payload:\", predict_from_payload(sample_payload))\n"
      ],
      "metadata": {
        "colab": {
          "base_uri": "https://localhost:8080/"
        },
        "id": "n_0Kys3riqc5",
        "outputId": "3e54b081-6be1-4487-d401-036669a2e274"
      },
      "execution_count": 12,
      "outputs": [
        {
          "output_type": "stream",
          "name": "stdout",
          "text": [
            "\u001b[1m1/1\u001b[0m \u001b[32m━━━━━━━━━━━━━━━━━━━━\u001b[0m\u001b[37m\u001b[0m \u001b[1m0s\u001b[0m 342ms/step\n",
            "\u001b[1m1/1\u001b[0m \u001b[32m━━━━━━━━━━━━━━━━━━━━\u001b[0m\u001b[37m\u001b[0m \u001b[1m0s\u001b[0m 229ms/step\n",
            "Predict on example payload: {'xgb_prob': 0.9947025179862976, 'fusion_prob': 0.9796416759490967}\n"
          ]
        }
      ]
    },
    {
      "cell_type": "code",
      "source": [
        "# Plot patient's time series + show top factors from explanation\n",
        "idx = 5  # change to any test index\n",
        "patient_ts = data_rows[idx]['ts']\n",
        "explain = explain_sample(idx)\n",
        "print(\"Fusion prob:\", explain['fusion_prob'])\n",
        "plt.figure(figsize=(10,4))\n",
        "plt.plot(patient_ts['glucose'], label='glucose')\n",
        "plt.plot(patient_ts['bp_systolic'], label='bp_systolic')\n",
        "plt.legend()\n",
        "plt.title(f\"Patient {idx} time series example (fusion risk {explain['fusion_prob']:.2f})\")\n",
        "plt.show()\n",
        "\n",
        "print(\"Top XGB factors:\")\n",
        "for f,s in explain['xgb_top']:\n",
        "    print(f, \"%.3f\" % s)\n",
        "print(\"\\nLSTM timeseries saliency:\")\n",
        "for f,s in explain['lstm_top']:\n",
        "    print(f, \"%.6f\" % s)\n"
      ],
      "metadata": {
        "colab": {
          "base_uri": "https://localhost:8080/",
          "height": 669
        },
        "id": "zkDNWZvmkCSz",
        "outputId": "25155637-c08f-41f4-e1c5-aed87e977200"
      },
      "execution_count": 13,
      "outputs": [
        {
          "output_type": "stream",
          "name": "stdout",
          "text": [
            "\u001b[1m1/1\u001b[0m \u001b[32m━━━━━━━━━━━━━━━━━━━━\u001b[0m\u001b[37m\u001b[0m \u001b[1m0s\u001b[0m 330ms/step\n",
            "\u001b[1m1/1\u001b[0m \u001b[32m━━━━━━━━━━━━━━━━━━━━\u001b[0m\u001b[37m\u001b[0m \u001b[1m0s\u001b[0m 233ms/step\n",
            "Fusion prob: 0.01096369232982397\n"
          ]
        },
        {
          "output_type": "display_data",
          "data": {
            "text/plain": [
              "<Figure size 1000x400 with 1 Axes>"
            ],
            "image/png": "[encoded data removed]"
          },
          "metadata": {}
        },
        {
          "output_type": "stream",
          "name": "stdout",
          "text": [
            "Top XGB factors:\n",
            "glucose_last -2.035\n",
            "diabetes -1.930\n",
            "med_adherence -0.743\n",
            "glucose_mean -0.654\n",
            "hr_last 0.287\n",
            "bp_systolic_std -0.186\n",
            "\n",
            "LSTM timeseries saliency:\n",
            "bp_diastolic 0.000001\n",
            "hr 0.000001\n",
            "bp_systolic 0.000001\n",
            "glucose 0.000001\n"
          ]
        }
      ]
    },
    {
      "cell_type": "code",
      "source": [
        "#ui and deployment"
      ],
      "metadata": {
        "id": "BmBxh2GqkF9m"
      },
      "execution_count": null,
      "outputs": []
    },
    {
      "cell_type": "code",
      "source": [
        "!pip install fastapi uvicorn pyngrok nest_asyncio\n"
      ],
      "metadata": {
        "colab": {
          "base_uri": "https://localhost:8080/"
        },
        "id": "7CCSfOIrkoI1",
        "outputId": "804cea16-fc3e-4a61-caaf-cea739dc369a"
      },
      "execution_count": 14,
      "outputs": [
        {
          "output_type": "stream",
          "name": "stdout",
          "text": [
            "Requirement already satisfied: fastapi in /usr/local/lib/python3.12/dist-packages (0.116.1)\n",
            "Requirement already satisfied: uvicorn in /usr/local/lib/python3.12/dist-packages (0.35.0)\n",
            "Collecting pyngrok\n",
            "  Downloading pyngrok-7.3.0-py3-none-any.whl.metadata (8.1 kB)\n",
            "Requirement already satisfied: nest_asyncio in /usr/local/lib/python3.12/dist-packages (1.6.0)\n",
            "Requirement already satisfied: starlette<0.48.0,>=0.40.0 in /usr/local/lib/python3.12/dist-packages (from fastapi) (0.47.3)\n",
            "Requirement already satisfied: pydantic!=1.8,!=1.8.1,!=2.0.0,!=2.0.1,!=2.1.0,<3.0.0,>=1.7.4 in /usr/local/lib/python3.12/dist-packages (from fastapi) (2.11.7)\n",
            "Requirement already satisfied: typing-extensions>=4.8.0 in /usr/local/lib/python3.12/dist-packages (from fastapi) (4.15.0)\n",
            "Requirement already satisfied: click>=7.0 in /usr/local/lib/python3.12/dist-packages (from uvicorn) (8.2.1)\n",
            "Requirement already satisfied: h11>=0.8 in /usr/local/lib/python3.12/dist-packages (from uvicorn) (0.16.0)\n",
            "Requirement already satisfied: PyYAML>=5.1 in /usr/local/lib/python3.12/dist-packages (from pyngrok) (6.0.2)\n",
            "Requirement already satisfied: annotated-types>=0.6.0 in /usr/local/lib/python3.12/dist-packages (from pydantic!=1.8,!=1.8.1,!=2.0.0,!=2.0.1,!=2.1.0,<3.0.0,>=1.7.4->fastapi) (0.7.0)\n",
            "Requirement already satisfied: pydantic-core==2.33.2 in /usr/local/lib/python3.12/dist-packages (from pydantic!=1.8,!=1.8.1,!=2.0.0,!=2.0.1,!=2.1.0,<3.0.0,>=1.7.4->fastapi) (2.33.2)\n",
            "Requirement already satisfied: typing-inspection>=0.4.0 in /usr/local/lib/python3.12/dist-packages (from pydantic!=1.8,!=1.8.1,!=2.0.0,!=2.0.1,!=2.1.0,<3.0.0,>=1.7.4->fastapi) (0.4.1)\n",
            "Requirement already satisfied: anyio<5,>=3.6.2 in /usr/local/lib/python3.12/dist-packages (from starlette<0.48.0,>=0.40.0->fastapi) (4.10.0)\n",
            "Requirement already satisfied: idna>=2.8 in /usr/local/lib/python3.12/dist-packages (from anyio<5,>=3.6.2->starlette<0.48.0,>=0.40.0->fastapi) (3.10)\n",
            "Requirement already satisfied: sniffio>=1.1 in /usr/local/lib/python3.12/dist-packages (from anyio<5,>=3.6.2->starlette<0.48.0,>=0.40.0->fastapi) (1.3.1)\n",
            "Downloading pyngrok-7.3.0-py3-none-any.whl (25 kB)\n",
            "Installing collected packages: pyngrok\n",
            "Successfully installed pyngrok-7.3.0\n"
          ]
        }
      ]
    },
    {
      "cell_type": "code",
      "source": [
        "import nest_asyncio\n",
        "import uvicorn\n",
        "from fastapi import FastAPI, Request\n",
        "from fastapi.responses import HTMLResponse, JSONResponse\n",
        "import pandas as pd\n",
        "import numpy as np\n",
        "import joblib, shap, tensorflow as tf\n",
        "\n",
        "# Use your existing helpers\n",
        "# build_tabular_features, prepare_lstm_sequence, features, MAX_LEN already defined\n",
        "\n",
        "# Load models once\n",
        "scaler = joblib.load(\"saved_models/tab_scaler.joblib\")\n",
        "xgb_model = joblib.load(\"saved_models/xgb_model.joblib\")\n",
        "enc = tf.keras.models.load_model(\"saved_models/lstm_encoder.keras\")\n",
        "fus = tf.keras.models.load_model(\"saved_models/fusion_model.keras\")\n",
        "explainer = shap.TreeExplainer(xgb_model)\n",
        "\n",
        "app = FastAPI()\n",
        "\n",
        "@app.get(\"/\", response_class=HTMLResponse)\n",
        "def home():\n",
        "    return \"\"\"\n",
        "    <html>\n",
        "      <head><title>Chronic Risk Predictor</title></head>\n",
        "      <body style=\"font-family:sans-serif;max-width:700px;margin:auto;padding:20px;\">\n",
        "        <h2>Hybrid AI Chronic Care Predictor</h2>\n",
        "        <textarea id=\"payload\" style=\"width:100%;height:200px;\">\n",
        "{\n",
        "  \"static\": {\"age\": 65, \"sex\": \"M\", \"diabetes\": 1, \"htn\": 0, \"med_adherence\": 0.8},\n",
        "  \"ts\": [\n",
        "    {\"date\":\"2025-08-01\",\"glucose\":180,\"bp_systolic\":150,\"bp_diastolic\":90,\"hr\":78},\n",
        "    {\"date\":\"2025-08-15\",\"glucose\":190,\"bp_systolic\":152,\"bp_diastolic\":92,\"hr\":80},\n",
        "    {\"date\":\"2025-08-29\",\"glucose\":200,\"bp_systolic\":155,\"bp_diastolic\":95,\"hr\":85}\n",
        "  ]\n",
        "}\n",
        "        </textarea>\n",
        "        <br><br>\n",
        "        <button onclick=\"predict()\">Predict</button>\n",
        "        <pre id=\"out\"></pre>\n",
        "        <script>\n",
        "          async function predict(){\n",
        "            let payload = JSON.parse(document.getElementById('payload').value);\n",
        "            let res = await fetch('/predict', {\n",
        "              method:'POST',\n",
        "              headers:{'Content-Type':'application/json'},\n",
        "              body: JSON.stringify(payload)\n",
        "            });\n",
        "            let j = await res.json();\n",
        "            document.getElementById('out').innerText = JSON.stringify(j, null, 2);\n",
        "          }\n",
        "        </script>\n",
        "      </body>\n",
        "    </html>\n",
        "    \"\"\"\n",
        "\n",
        "@app.post(\"/predict\")\n",
        "async def predict(payload: dict):\n",
        "    try:\n",
        "        ts_df = pd.DataFrame(payload['ts'])\n",
        "        static = payload['static']\n",
        "        # Tabular features\n",
        "        X_tab_df = build_tabular_features(static, ts_df)\n",
        "        x_tab_scaled = scaler.transform(X_tab_df.values)\n",
        "        # XGB\n",
        "        xgb_p = float(xgb_model.predict_proba(x_tab_scaled)[:,1][0])\n",
        "        # Sequence\n",
        "        seq = prepare_lstm_sequence(ts_df, features=features, max_len=MAX_LEN)\n",
        "        seq = seq.reshape(1, MAX_LEN, len(features)).astype(\"float32\")\n",
        "        emb = enc.predict(seq)\n",
        "        fusion_p = float(fus.predict([emb, np.array([[xgb_p]])])[0,0])\n",
        "        return {\"xgb_prob\": xgb_p, \"fusion_prob\": fusion_p}\n",
        "    except Exception as e:\n",
        "        return JSONResponse({\"error\": str(e)}, status_code=500)\n"
      ],
      "metadata": {
        "id": "Q0N9hMVIktjl"
      },
      "execution_count": 15,
      "outputs": []
    },
    {
      "cell_type": "code",
      "source": [
        "!pip install gradio\n"
      ],
      "metadata": {
        "colab": {
          "base_uri": "https://localhost:8080/"
        },
        "id": "H2UkLlQ1rtuP",
        "outputId": "03a4c97f-783f-4edb-a4aa-e63f70052944"
      },
      "execution_count": 18,
      "outputs": [
        {
          "output_type": "stream",
          "name": "stdout",
          "text": [
            "Requirement already satisfied: gradio in /usr/local/lib/python3.12/dist-packages (5.44.1)\n",
            "Requirement already satisfied: aiofiles<25.0,>=22.0 in /usr/local/lib/python3.12/dist-packages (from gradio) (24.1.0)\n",
            "Requirement already satisfied: anyio<5.0,>=3.0 in /usr/local/lib/python3.12/dist-packages (from gradio) (4.10.0)\n",
            "Requirement already satisfied: brotli>=1.1.0 in /usr/local/lib/python3.12/dist-packages (from gradio) (1.1.0)\n",
            "Requirement already satisfied: fastapi<1.0,>=0.115.2 in /usr/local/lib/python3.12/dist-packages (from gradio) (0.116.1)\n",
            "Requirement already satisfied: ffmpy in /usr/local/lib/python3.12/dist-packages (from gradio) (0.6.1)\n",
            "Requirement already satisfied: gradio-client==1.12.1 in /usr/local/lib/python3.12/dist-packages (from gradio) (1.12.1)\n",
            "Requirement already satisfied: groovy~=0.1 in /usr/local/lib/python3.12/dist-packages (from gradio) (0.1.2)\n",
            "Requirement already satisfied: httpx<1.0,>=0.24.1 in /usr/local/lib/python3.12/dist-packages (from gradio) (0.28.1)\n",
            "Requirement already satisfied: huggingface-hub<1.0,>=0.33.5 in /usr/local/lib/python3.12/dist-packages (from gradio) (0.34.4)\n",
            "Requirement already satisfied: jinja2<4.0 in /usr/local/lib/python3.12/dist-packages (from gradio) (3.1.6)\n",
            "Requirement already satisfied: markupsafe<4.0,>=2.0 in /usr/local/lib/python3.12/dist-packages (from gradio) (3.0.2)\n",
            "Requirement already satisfied: numpy<3.0,>=1.0 in /usr/local/lib/python3.12/dist-packages (from gradio) (2.0.2)\n",
            "Requirement already satisfied: orjson~=3.0 in /usr/local/lib/python3.12/dist-packages (from gradio) (3.11.3)\n",
            "Requirement already satisfied: packaging in /usr/local/lib/python3.12/dist-packages (from gradio) (25.0)\n",
            "Requirement already satisfied: pandas<3.0,>=1.0 in /usr/local/lib/python3.12/dist-packages (from gradio) (2.2.2)\n",
            "Requirement already satisfied: pillow<12.0,>=8.0 in /usr/local/lib/python3.12/dist-packages (from gradio) (11.3.0)\n",
            "Requirement already satisfied: pydantic<2.12,>=2.0 in /usr/local/lib/python3.12/dist-packages (from gradio) (2.11.7)\n",
            "Requirement already satisfied: pydub in /usr/local/lib/python3.12/dist-packages (from gradio) (0.25.1)\n",
            "Requirement already satisfied: python-multipart>=0.0.18 in /usr/local/lib/python3.12/dist-packages (from gradio) (0.0.20)\n",
            "Requirement already satisfied: pyyaml<7.0,>=5.0 in /usr/local/lib/python3.12/dist-packages (from gradio) (6.0.2)\n",
            "Requirement already satisfied: ruff>=0.9.3 in /usr/local/lib/python3.12/dist-packages (from gradio) (0.12.11)\n",
            "Requirement already satisfied: safehttpx<0.2.0,>=0.1.6 in /usr/local/lib/python3.12/dist-packages (from gradio) (0.1.6)\n",
            "Requirement already satisfied: semantic-version~=2.0 in /usr/local/lib/python3.12/dist-packages (from gradio) (2.10.0)\n",
            "Requirement already satisfied: starlette<1.0,>=0.40.0 in /usr/local/lib/python3.12/dist-packages (from gradio) (0.47.3)\n",
            "Requirement already satisfied: tomlkit<0.14.0,>=0.12.0 in /usr/local/lib/python3.12/dist-packages (from gradio) (0.13.3)\n",
            "Requirement already satisfied: typer<1.0,>=0.12 in /usr/local/lib/python3.12/dist-packages (from gradio) (0.17.3)\n",
            "Requirement already satisfied: typing-extensions~=4.0 in /usr/local/lib/python3.12/dist-packages (from gradio) (4.15.0)\n",
            "Requirement already satisfied: uvicorn>=0.14.0 in /usr/local/lib/python3.12/dist-packages (from gradio) (0.35.0)\n",
            "Requirement already satisfied: fsspec in /usr/local/lib/python3.12/dist-packages (from gradio-client==1.12.1->gradio) (2025.3.0)\n",
            "Requirement already satisfied: websockets<16.0,>=10.0 in /usr/local/lib/python3.12/dist-packages (from gradio-client==1.12.1->gradio) (15.0.1)\n",
            "Requirement already satisfied: idna>=2.8 in /usr/local/lib/python3.12/dist-packages (from anyio<5.0,>=3.0->gradio) (3.10)\n",
            "Requirement already satisfied: sniffio>=1.1 in /usr/local/lib/python3.12/dist-packages (from anyio<5.0,>=3.0->gradio) (1.3.1)\n",
            "Requirement already satisfied: certifi in /usr/local/lib/python3.12/dist-packages (from httpx<1.0,>=0.24.1->gradio) (2025.8.3)\n",
            "Requirement already satisfied: httpcore==1.* in /usr/local/lib/python3.12/dist-packages (from httpx<1.0,>=0.24.1->gradio) (1.0.9)\n",
            "Requirement already satisfied: h11>=0.16 in /usr/local/lib/python3.12/dist-packages (from httpcore==1.*->httpx<1.0,>=0.24.1->gradio) (0.16.0)\n",
            "Requirement already satisfied: filelock in /usr/local/lib/python3.12/dist-packages (from huggingface-hub<1.0,>=0.33.5->gradio) (3.19.1)\n",
            "Requirement already satisfied: requests in /usr/local/lib/python3.12/dist-packages (from huggingface-hub<1.0,>=0.33.5->gradio) (2.32.4)\n",
            "Requirement already satisfied: tqdm>=4.42.1 in /usr/local/lib/python3.12/dist-packages (from huggingface-hub<1.0,>=0.33.5->gradio) (4.67.1)\n",
            "Requirement already satisfied: hf-xet<2.0.0,>=1.1.3 in /usr/local/lib/python3.12/dist-packages (from huggingface-hub<1.0,>=0.33.5->gradio) (1.1.9)\n",
            "Requirement already satisfied: python-dateutil>=2.8.2 in /usr/local/lib/python3.12/dist-packages (from pandas<3.0,>=1.0->gradio) (2.9.0.post0)\n",
            "Requirement already satisfied: pytz>=2020.1 in /usr/local/lib/python3.12/dist-packages (from pandas<3.0,>=1.0->gradio) (2025.2)\n",
            "Requirement already satisfied: tzdata>=2022.7 in /usr/local/lib/python3.12/dist-packages (from pandas<3.0,>=1.0->gradio) (2025.2)\n",
            "Requirement already satisfied: annotated-types>=0.6.0 in /usr/local/lib/python3.12/dist-packages (from pydantic<2.12,>=2.0->gradio) (0.7.0)\n",
            "Requirement already satisfied: pydantic-core==2.33.2 in /usr/local/lib/python3.12/dist-packages (from pydantic<2.12,>=2.0->gradio) (2.33.2)\n",
            "Requirement already satisfied: typing-inspection>=0.4.0 in /usr/local/lib/python3.12/dist-packages (from pydantic<2.12,>=2.0->gradio) (0.4.1)\n",
            "Requirement already satisfied: click>=8.0.0 in /usr/local/lib/python3.12/dist-packages (from typer<1.0,>=0.12->gradio) (8.2.1)\n",
            "Requirement already satisfied: shellingham>=1.3.0 in /usr/local/lib/python3.12/dist-packages (from typer<1.0,>=0.12->gradio) (1.5.4)\n",
            "Requirement already satisfied: rich>=10.11.0 in /usr/local/lib/python3.12/dist-packages (from typer<1.0,>=0.12->gradio) (13.9.4)\n",
            "Requirement already satisfied: six>=1.5 in /usr/local/lib/python3.12/dist-packages (from python-dateutil>=2.8.2->pandas<3.0,>=1.0->gradio) (1.17.0)\n",
            "Requirement already satisfied: markdown-it-py>=2.2.0 in /usr/local/lib/python3.12/dist-packages (from rich>=10.11.0->typer<1.0,>=0.12->gradio) (4.0.0)\n",
            "Requirement already satisfied: pygments<3.0.0,>=2.13.0 in /usr/local/lib/python3.12/dist-packages (from rich>=10.11.0->typer<1.0,>=0.12->gradio) (2.19.2)\n",
            "Requirement already satisfied: charset_normalizer<4,>=2 in /usr/local/lib/python3.12/dist-packages (from requests->huggingface-hub<1.0,>=0.33.5->gradio) (3.4.3)\n",
            "Requirement already satisfied: urllib3<3,>=1.21.1 in /usr/local/lib/python3.12/dist-packages (from requests->huggingface-hub<1.0,>=0.33.5->gradio) (2.5.0)\n",
            "Requirement already satisfied: mdurl~=0.1 in /usr/local/lib/python3.12/dist-packages (from markdown-it-py>=2.2.0->rich>=10.11.0->typer<1.0,>=0.12->gradio) (0.1.2)\n"
          ]
        }
      ]
    },
    {
      "cell_type": "code",
      "source": [
        "import gradio as gr\n",
        "import matplotlib.pyplot as plt\n",
        "\n",
        "def predict_and_explain(static_age, static_sex, static_diabetes, static_htn, med_adherence, glucose, bp_sys, bp_dia, hr):\n",
        "    # Build payload (dummy with one timeseries point for now)\n",
        "    payload = {\n",
        "        \"static\": {\n",
        "            \"age\": int(static_age),\n",
        "            \"sex\": static_sex,\n",
        "            \"diabetes\": int(static_diabetes),\n",
        "            \"htn\": int(static_htn),\n",
        "            \"med_adherence\": float(med_adherence)\n",
        "        },\n",
        "        \"ts\": [\n",
        "            {\"date\":\"2025-08-01\",\"glucose\":float(glucose),\"bp_systolic\":float(bp_sys),\n",
        "             \"bp_diastolic\":float(bp_dia),\"hr\":float(hr)},\n",
        "            {\"date\":\"2025-08-15\",\"glucose\":float(glucose*1.05),\"bp_systolic\":float(bp_sys+2),\n",
        "             \"bp_diastolic\":float(bp_dia+1),\"hr\":float(hr+2)},\n",
        "            {\"date\":\"2025-08-29\",\"glucose\":float(glucose*1.1),\"bp_systolic\":float(bp_sys+5),\n",
        "             \"bp_diastolic\":float(bp_dia+3),\"hr\":float(hr+4)},\n",
        "        ]\n",
        "    }\n",
        "\n",
        "    # --- Run model prediction ---\n",
        "    preds = predict_from_payload(payload)  # {'xgb_prob':..., 'fusion_prob':...}\n",
        "    risk = preds[\"fusion_prob\"]\n",
        "\n",
        "    # --- Make traffic-light risk text ---\n",
        "    if risk < 0.3:\n",
        "        risk_status = f\"🟢 Low Risk ({risk:.2f})\"\n",
        "    elif risk < 0.6:\n",
        "        risk_status = f\"🟡 Moderate Risk ({risk:.2f})\"\n",
        "    else:\n",
        "        risk_status = f\"🔴 High Risk ({risk:.2f})\"\n",
        "\n",
        "    # --- Run explanations using your explain_sample-like logic ---\n",
        "    # For simplicity, we’ll just fake it here with SHAP (use your existing explain_sample if available)\n",
        "    # Assuming you adapted explain_sample(payload) to work directly with JSON\n",
        "    try:\n",
        "        exp = explain_sample(5)  # Replace this with a proper explain_from_payload(payload)\n",
        "        xgb_top = exp['xgb_top']\n",
        "        lstm_top = exp['lstm_top']\n",
        "    except:\n",
        "        xgb_top = [(\"glucose_mean\", 0.25), (\"bp_systolic_last\", 0.15), (\"age\", 0.10)]\n",
        "        lstm_top = [(\"glucose\", 0.3), (\"bp_systolic\", 0.2), (\"hr\", 0.1)]\n",
        "\n",
        "    # --- Build factor explanation text ---\n",
        "    factors_text = \"Top XGBoost factors:\\n\" + \"\\n\".join([f\"{f}: {s:.3f}\" for f,s in xgb_top]) + \\\n",
        "                   \"\\n\\nTop LSTM saliency:\\n\" + \"\\n\".join([f\"{f}: {s:.3f}\" for f,s in lstm_top])\n",
        "\n",
        "    # --- Plot vitals ---\n",
        "    ts_df = pd.DataFrame(payload[\"ts\"])\n",
        "    plt.figure(figsize=(6,4))\n",
        "    plt.plot(ts_df[\"date\"], ts_df[\"glucose\"], label=\"Glucose\", marker=\"o\")\n",
        "    plt.plot(ts_df[\"date\"], ts_df[\"bp_systolic\"], label=\"BP Systolic\", marker=\"o\")\n",
        "    plt.plot(ts_df[\"date\"], ts_df[\"bp_diastolic\"], label=\"BP Diastolic\", marker=\"o\")\n",
        "    plt.plot(ts_df[\"date\"], ts_df[\"hr\"], label=\"Heart Rate\", marker=\"o\")\n",
        "    plt.xticks(rotation=30)\n",
        "    plt.legend()\n",
        "    plt.title(\"Patient Vitals Trend\")\n",
        "    plt.tight_layout()\n",
        "    fig = plt.gcf()\n",
        "\n",
        "    return risk_status, factors_text, fig\n",
        "\n",
        "\n",
        "# --- Gradio UI ---\n",
        "demo = gr.Interface(\n",
        "    fn=predict_and_explain,\n",
        "    inputs=[\n",
        "        gr.Number(label=\"Age\"),\n",
        "        gr.Radio([\"M\",\"F\"], label=\"Sex\"),\n",
        "        gr.Radio([0,1], label=\"Diabetes\"),\n",
        "        gr.Radio([0,1], label=\"Hypertension\"),\n",
        "        gr.Slider(0,1,step=0.1,label=\"Med Adherence\"),\n",
        "        gr.Number(label=\"Glucose\"),\n",
        "        gr.Number(label=\"BP Systolic\"),\n",
        "        gr.Number(label=\"BP Diastolic\"),\n",
        "        gr.Number(label=\"HR\"),\n",
        "    ],\n",
        "    outputs=[\n",
        "        gr.Textbox(label=\"Risk Score\"),\n",
        "        gr.Textbox(label=\"Top Contributing Factors\"),\n",
        "        gr.Plot(label=\"Vitals Graph\")\n",
        "    ]\n",
        ")\n",
        "\n",
        "demo.launch(share=True)\n"
      ],
      "metadata": {
        "colab": {
          "base_uri": "https://localhost:8080/",
          "height": 611
        },
        "id": "mSJAF7zCr0Be",
        "outputId": "6ad32c1d-2bf9-4269-fa1c-c34256bfcd0d"
      },
      "execution_count": 20,
      "outputs": [
        {
          "output_type": "stream",
          "name": "stdout",
          "text": [
            "Colab notebook detected. To show errors in colab notebook, set debug=True in launch()\n",
            "* Running on public URL: https://850b782c6d94da97c1.gradio.live\n",
            "\n",
            "This share link expires in 1 week. For free permanent hosting and GPU upgrades, run `gradio deploy` from the terminal in the working directory to deploy to Hugging Face Spaces (https://huggingface.co/spaces)\n"
          ]
        },
        {
          "output_type": "display_data",
          "data": {
            "text/plain": [
              "<IPython.core.display.HTML object>"
            ],
            "text/html": [
              "<div><iframe src=\"https://850b782c6d94da97c1.gradio.live\" width=\"100%\" height=\"500\" allow=\"autoplay; camera; microphone; clipboard-read; clipboard-write;\" frameborder=\"0\" allowfullscreen></iframe></div>"
            ]
          },
          "metadata": {}
        },
        {
          "output_type": "execute_result",
          "data": {
            "text/plain": []
          },
          "metadata": {},
          "execution_count": 20
        }
      ]
    }
  ]
}